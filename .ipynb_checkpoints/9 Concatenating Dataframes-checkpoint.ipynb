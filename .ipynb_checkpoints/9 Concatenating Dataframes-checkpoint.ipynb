{
 "cells": [
  {
   "cell_type": "code",
   "execution_count": 11,
   "id": "261122a9-38db-4bec-87bc-353e1d0b81bd",
   "metadata": {
    "scrolled": true
   },
   "outputs": [],
   "source": [
    "import pandas as pd\n",
    "df_movies = pd.read_csv(\"csv files/IMDb movies.csv\", low_memory=False)\n",
    "df_movies = df_movies[[\"imdb_title_id\", \"title\", \"year\", \"genre\", \"country\"]]\n",
    "# df_movies\n",
    "\n",
    "df_ratings = pd.read_csv(\"csv files/IMDb ratings.csv\")\n",
    "df_ratings = df_ratings[[\"imdb_title_id\", \"total_votes\", \"mean_vote\"]]\n",
    "# df_ratings"
   ]
  },
  {
   "cell_type": "markdown",
   "id": "e278a258-0505-4512-ab91-74866f962cc8",
   "metadata": {},
   "source": [
    "# 1 Cocatenate: concat()\n",
    "\n",
    "pd.concat( [df1. df2] )"
   ]
  },
  {
   "cell_type": "markdown",
   "id": "4b48e0f6-3c04-4165-a5e9-4572e82ac5c8",
   "metadata": {},
   "source": [
    "## 1.1 Concatenate Vertically\n",
    "\n",
    "pd.concat( [df1. df2], axis=0 )"
   ]
  },
  {
   "cell_type": "code",
   "execution_count": 22,
   "id": "96fcdafa-620c-4fea-8940-03a675889d97",
   "metadata": {},
   "outputs": [
    {
     "data": {
      "text/html": [
       "<div>\n",
       "<style scoped>\n",
       "    .dataframe tbody tr th:only-of-type {\n",
       "        vertical-align: middle;\n",
       "    }\n",
       "\n",
       "    .dataframe tbody tr th {\n",
       "        vertical-align: top;\n",
       "    }\n",
       "\n",
       "    .dataframe thead th {\n",
       "        text-align: right;\n",
       "    }\n",
       "</style>\n",
       "<table border=\"1\" class=\"dataframe\">\n",
       "  <thead>\n",
       "    <tr style=\"text-align: right;\">\n",
       "      <th></th>\n",
       "      <th>id</th>\n",
       "      <th>age</th>\n",
       "    </tr>\n",
       "  </thead>\n",
       "  <tbody>\n",
       "    <tr>\n",
       "      <th>0</th>\n",
       "      <td>A</td>\n",
       "      <td>30</td>\n",
       "    </tr>\n",
       "    <tr>\n",
       "      <th>1</th>\n",
       "      <td>B</td>\n",
       "      <td>23</td>\n",
       "    </tr>\n",
       "    <tr>\n",
       "      <th>2</th>\n",
       "      <td>C</td>\n",
       "      <td>25</td>\n",
       "    </tr>\n",
       "    <tr>\n",
       "      <th>3</th>\n",
       "      <td>D</td>\n",
       "      <td>22</td>\n",
       "    </tr>\n",
       "    <tr>\n",
       "      <th>4</th>\n",
       "      <td>E</td>\n",
       "      <td>40</td>\n",
       "    </tr>\n",
       "    <tr>\n",
       "      <th>5</th>\n",
       "      <td>F</td>\n",
       "      <td>21</td>\n",
       "    </tr>\n",
       "    <tr>\n",
       "      <th>6</th>\n",
       "      <td>G</td>\n",
       "      <td>19</td>\n",
       "    </tr>\n",
       "    <tr>\n",
       "      <th>7</th>\n",
       "      <td>h</td>\n",
       "      <td>24</td>\n",
       "    </tr>\n",
       "  </tbody>\n",
       "</table>\n",
       "</div>"
      ],
      "text/plain": [
       "  id  age\n",
       "0  A   30\n",
       "1  B   23\n",
       "2  C   25\n",
       "3  D   22\n",
       "4  E   40\n",
       "5  F   21\n",
       "6  G   19\n",
       "7  h   24"
      ]
     },
     "execution_count": 22,
     "metadata": {},
     "output_type": "execute_result"
    }
   ],
   "source": [
    "df1 = pd.DataFrame({'id':['A','B', 'C', 'D'],\n",
    "                    'age':[30, 23, 25, 22]})\n",
    "df2 = pd.DataFrame({'id':['E','F', 'G', 'h'],\n",
    "                    'age':[40, 21, 19, 24]})\n",
    "'''\n",
    "ignore_index=True ignores original indexes and creates a new index (=False by default)\n",
    "'''\n",
    "pd.concat([df1,df2], axis=0, ignore_index=True)"
   ]
  },
  {
   "cell_type": "markdown",
   "id": "1e9d5bdf-e8a2-47bb-824f-bc68a792d041",
   "metadata": {},
   "source": [
    "### 1.1.1 Exercise"
   ]
  },
  {
   "cell_type": "code",
   "execution_count": 50,
   "id": "23dc12f1-2fc4-4374-ad1d-b5b821b0cacb",
   "metadata": {
    "scrolled": true
   },
   "outputs": [],
   "source": [
    "# extract a 50% sample of original dataframe (df_movies)\n",
    "df_movies_sample = df_movies.sample(frac=0.5)"
   ]
  },
  {
   "cell_type": "code",
   "execution_count": 51,
   "id": "7504a4ee-23dd-41d6-9403-c41c1df980c5",
   "metadata": {},
   "outputs": [
    {
     "name": "stdout",
     "output_type": "stream",
     "text": [
      "(42928, 5)\n",
      "(85855, 3)\n"
     ]
    }
   ],
   "source": [
    "# shape of dataframes that we'll concatenate\n",
    "print(df_movies_sample.shape)\n",
    "print(df_ratings.shape)"
   ]
  },
  {
   "cell_type": "code",
   "execution_count": 52,
   "id": "b039a3c7-1f2a-4d7a-8bc8-a02db0774584",
   "metadata": {},
   "outputs": [],
   "source": [
    "# concatenate df_movies and df_movies_sample (vertically along the rows)\n",
    "df_concat_vert = pd.concat([df_movies, df_movies_sample], axis=0)"
   ]
  },
  {
   "cell_type": "code",
   "execution_count": 54,
   "id": "47c9d259-154c-4958-822f-a0e37817d318",
   "metadata": {},
   "outputs": [
    {
     "data": {
      "text/plain": [
       "(128783, 5)"
      ]
     },
     "execution_count": 54,
     "metadata": {},
     "output_type": "execute_result"
    }
   ],
   "source": [
    "# shape\n",
    "df_concat_vert.shape"
   ]
  },
  {
   "cell_type": "markdown",
   "id": "cb3f0626-d5e5-48b7-ac68-e7a9028e9b02",
   "metadata": {},
   "source": [
    "## 1.2 Concatenate Horizontally\n",
    "\n",
    "pd.concat( [df1. df2], axis=1 )"
   ]
  },
  {
   "cell_type": "code",
   "execution_count": 55,
   "id": "903a7e9d-7012-4310-8365-614873ab8c98",
   "metadata": {},
   "outputs": [],
   "source": [
    "df1 = pd.DataFrame({'id': ['A', 'B', 'C', 'D'],\n",
    "                    'age': [30, 23, 25, 22]})\n",
    "df2 = pd.DataFrame({'job': ['Doctor', 'Statistician',\n",
    "                            'Accountant', 'Developer']})"
   ]
  },
  {
   "cell_type": "code",
   "execution_count": 58,
   "id": "81126322-8171-4135-8ae4-b4040e2e43b4",
   "metadata": {},
   "outputs": [
    {
     "data": {
      "text/html": [
       "<div>\n",
       "<style scoped>\n",
       "    .dataframe tbody tr th:only-of-type {\n",
       "        vertical-align: middle;\n",
       "    }\n",
       "\n",
       "    .dataframe tbody tr th {\n",
       "        vertical-align: top;\n",
       "    }\n",
       "\n",
       "    .dataframe thead th {\n",
       "        text-align: right;\n",
       "    }\n",
       "</style>\n",
       "<table border=\"1\" class=\"dataframe\">\n",
       "  <thead>\n",
       "    <tr style=\"text-align: right;\">\n",
       "      <th></th>\n",
       "      <th>id</th>\n",
       "      <th>age</th>\n",
       "      <th>job</th>\n",
       "    </tr>\n",
       "  </thead>\n",
       "  <tbody>\n",
       "    <tr>\n",
       "      <th>0</th>\n",
       "      <td>A</td>\n",
       "      <td>30</td>\n",
       "      <td>Doctor</td>\n",
       "    </tr>\n",
       "    <tr>\n",
       "      <th>1</th>\n",
       "      <td>B</td>\n",
       "      <td>23</td>\n",
       "      <td>Statistician</td>\n",
       "    </tr>\n",
       "    <tr>\n",
       "      <th>2</th>\n",
       "      <td>C</td>\n",
       "      <td>25</td>\n",
       "      <td>Accountant</td>\n",
       "    </tr>\n",
       "    <tr>\n",
       "      <th>3</th>\n",
       "      <td>D</td>\n",
       "      <td>22</td>\n",
       "      <td>Developer</td>\n",
       "    </tr>\n",
       "  </tbody>\n",
       "</table>\n",
       "</div>"
      ],
      "text/plain": [
       "  id  age           job\n",
       "0  A   30        Doctor\n",
       "1  B   23  Statistician\n",
       "2  C   25    Accountant\n",
       "3  D   22     Developer"
      ]
     },
     "execution_count": 58,
     "metadata": {},
     "output_type": "execute_result"
    }
   ],
   "source": [
    "pd.concat([df1,df2], axis=1)"
   ]
  },
  {
   "cell_type": "markdown",
   "id": "4c9bd268-6de6-42cd-9d6b-a8abd3282eb6",
   "metadata": {},
   "source": [
    "### 1.2.1 Exercise"
   ]
  },
  {
   "cell_type": "code",
   "execution_count": 59,
   "id": "6f306fc8-90c9-4a0f-a443-6c77b85a8da7",
   "metadata": {},
   "outputs": [
    {
     "name": "stdout",
     "output_type": "stream",
     "text": [
      "(85855, 5)\n",
      "(85855, 3)\n"
     ]
    }
   ],
   "source": [
    "# shape of dataframes well concatenate\n",
    "print(df_movies.shape)\n",
    "print(df_ratings.shape)"
   ]
  },
  {
   "cell_type": "code",
   "execution_count": 63,
   "id": "96d939e8-3829-48aa-ad0d-9ad88166889c",
   "metadata": {},
   "outputs": [],
   "source": [
    "# concatenate df_movies and df_ratings on 'imdb_title_id' (horizontally along the columns)\n",
    "df_concat = pd.concat([df_movies.set_index('imdb_title_id'), \n",
    "           df_ratings.set_index('imdb_title_id')], \n",
    "          axis=1)"
   ]
  },
  {
   "cell_type": "code",
   "execution_count": 64,
   "id": "b0dbc22c-a452-4826-8a69-204eefddd7d4",
   "metadata": {},
   "outputs": [
    {
     "data": {
      "text/plain": [
       "(85855, 6)"
      ]
     },
     "execution_count": 64,
     "metadata": {},
     "output_type": "execute_result"
    }
   ],
   "source": [
    "df_concat.shape"
   ]
  }
 ],
 "metadata": {
  "kernelspec": {
   "display_name": "Python 3 (ipykernel)",
   "language": "python",
   "name": "python3"
  },
  "language_info": {
   "codemirror_mode": {
    "name": "ipython",
    "version": 3
   },
   "file_extension": ".py",
   "mimetype": "text/x-python",
   "name": "python",
   "nbconvert_exporter": "python",
   "pygments_lexer": "ipython3",
   "version": "3.12.7"
  }
 },
 "nbformat": 4,
 "nbformat_minor": 5
}
