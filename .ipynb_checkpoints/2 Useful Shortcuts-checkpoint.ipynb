{
 "cells": [
  {
   "cell_type": "markdown",
   "id": "9033c6a6-963b-4687-ae94-6e94838c78a4",
   "metadata": {},
   "source": [
    "# Title"
   ]
  },
  {
   "cell_type": "markdown",
   "id": "c203fec9-d908-4b76-9a7c-fa85b1f46f0f",
   "metadata": {},
   "source": [
    "## Subtitle"
   ]
  },
  {
   "cell_type": "code",
   "execution_count": 7,
   "id": "950910b3-233d-4a86-8404-9f6ff547aec8",
   "metadata": {},
   "outputs": [
    {
     "data": {
      "text/plain": [
       "'Hello World'"
      ]
     },
     "execution_count": 7,
     "metadata": {},
     "output_type": "execute_result"
    }
   ],
   "source": [
    "\"Hello World\""
   ]
  },
  {
   "cell_type": "markdown",
   "id": "e39864f0-37f6-461e-a607-6dc168c428ff",
   "metadata": {},
   "source": [
    "Ctrl+Shift+H: List of shortcuts\n",
    "Shift+Enter : run cell and insert new cell below\n",
    "Ctrl+F : find and replace\n",
    "Y: change cell to \"Code\" <br>\n",
    "M: change cell to \"Markdown\"\n",
    "A: new cell above <br>\n",
    "B: new cell below <br>\n",
    "X: cut cell <br>\n",
    "V: paste cell below <br>\n",
    "Shift+V: paste cell above <br>\n",
    "D+D: delete cell <br>\n",
    "Z: undo <br>\n",
    "Crtl+S: save checkpoint <br>\n"
   ]
  },
  {
   "cell_type": "code",
   "execution_count": null,
   "id": "b553e5ab-b177-47cf-b815-161bf810b8f1",
   "metadata": {},
   "outputs": [],
   "source": []
  }
 ],
 "metadata": {
  "kernelspec": {
   "display_name": "Python 3 (ipykernel)",
   "language": "python",
   "name": "python3"
  },
  "language_info": {
   "codemirror_mode": {
    "name": "ipython",
    "version": 3
   },
   "file_extension": ".py",
   "mimetype": "text/x-python",
   "name": "python",
   "nbconvert_exporter": "python",
   "pygments_lexer": "ipython3",
   "version": "3.12.7"
  }
 },
 "nbformat": 4,
 "nbformat_minor": 5
}
