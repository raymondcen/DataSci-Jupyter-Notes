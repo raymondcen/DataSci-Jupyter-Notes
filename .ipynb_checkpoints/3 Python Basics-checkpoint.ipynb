{
 "cells": [
  {
   "cell_type": "markdown",
   "id": "0b27c44b-d113-4027-a646-9b59748ada55",
   "metadata": {},
   "source": [
    "# 1 Hello World "
   ]
  },
  {
   "cell_type": "code",
   "execution_count": 574,
   "id": "910a9906-cb35-4254-9d34-e936758dc0c4",
   "metadata": {},
   "outputs": [
    {
     "name": "stdout",
     "output_type": "stream",
     "text": [
      "Hello World\n"
     ]
    }
   ],
   "source": [
    "print(\"Hello World\")"
   ]
  },
  {
   "cell_type": "code",
   "execution_count": 575,
   "id": "207b2cb3-b520-4ca6-8885-93523f5817e0",
   "metadata": {},
   "outputs": [],
   "source": [
    "# Comment"
   ]
  },
  {
   "cell_type": "code",
   "execution_count": 576,
   "id": "47ce64b8-46de-42d6-bc77-2cb0394f81e6",
   "metadata": {
    "scrolled": true
   },
   "outputs": [
    {
     "data": {
      "text/plain": [
       "bool"
      ]
     },
     "execution_count": 576,
     "metadata": {},
     "output_type": "execute_result"
    }
   ],
   "source": [
    "# Check type\n",
    "type(\"Hellow World\") #str\n",
    "type(2.4) #float\n",
    "type(True) #bool"
   ]
  },
  {
   "cell_type": "code",
   "execution_count": 577,
   "id": "410854fb-d51b-41c6-8f68-28026260cfc6",
   "metadata": {},
   "outputs": [
    {
     "data": {
      "text/plain": [
       "'Hellow World'"
      ]
     },
     "execution_count": 577,
     "metadata": {},
     "output_type": "execute_result"
    }
   ],
   "source": [
    "# Makes all letters upper case\n",
    "\"Hellow World\".upper()\n",
    "# Makes all letters lower case\n",
    "\"Hellow World\".lower()\n",
    "# Makes all letters title\n",
    "\"Hellow World\".title()"
   ]
  },
  {
   "cell_type": "code",
   "execution_count": 578,
   "id": "6c0f3db5-5e56-4eb6-9726-c17ab175c8e8",
   "metadata": {},
   "outputs": [
    {
     "name": "stdout",
     "output_type": "stream",
     "text": [
      "HELLOW WORLD\n",
      "hellow world\n",
      "Hellow World\n"
     ]
    }
   ],
   "source": [
    "print(\"Hellow World\".upper())\n",
    "print(\"Hellow World\".lower())\n",
    "print(\"hellow world\".title())"
   ]
  },
  {
   "cell_type": "code",
   "execution_count": 579,
   "id": "5845e122-14de-4109-ad58-a01b419e2887",
   "metadata": {},
   "outputs": [
    {
     "name": "stdout",
     "output_type": "stream",
     "text": [
      "3\n",
      "1\n"
     ]
    }
   ],
   "source": [
    "# Letter count\n",
    "print(\"Hello World\".count('l'))\n",
    "print(\"Hello World\".count(\"World\"))"
   ]
  },
  {
   "cell_type": "code",
   "execution_count": 580,
   "id": "27e074bc-33cb-4a9b-ba6a-85ab186af8e7",
   "metadata": {},
   "outputs": [
    {
     "data": {
      "text/plain": [
       "'u World'"
      ]
     },
     "execution_count": 580,
     "metadata": {},
     "output_type": "execute_result"
    }
   ],
   "source": [
    "# Replace certain words/letters\n",
    "\"Hello World\".replace(\"Hello\", 'u')"
   ]
  },
  {
   "cell_type": "code",
   "execution_count": 581,
   "id": "4cd95bb8-315c-4c74-930e-e3134441d22c",
   "metadata": {},
   "outputs": [
    {
     "name": "stdout",
     "output_type": "stream",
     "text": [
      "Hello \n",
      "World\n"
     ]
    }
   ],
   "source": [
    "# New Line in a print statement\n",
    "  # Use \\n\n",
    "print(\"Hello \\nWorld\")"
   ]
  },
  {
   "cell_type": "markdown",
   "id": "a7f61502-48bb-4088-9b08-c39f05c125b3",
   "metadata": {},
   "source": [
    "# 2 Variables"
   ]
  },
  {
   "cell_type": "code",
   "execution_count": 582,
   "id": "3209031a-56f8-4628-b812-771fa8c8015c",
   "metadata": {},
   "outputs": [
    {
     "name": "stdout",
     "output_type": "stream",
     "text": [
      "I'm learning Python\n"
     ]
    }
   ],
   "source": [
    "message_1 = \"I'm learning Python\"\n",
    "print(message_1)"
   ]
  },
  {
   "cell_type": "code",
   "execution_count": 583,
   "id": "106b4a6e-e7cd-4737-97c3-a0cafe660802",
   "metadata": {},
   "outputs": [],
   "source": [
    "message_2 = \"and Jupyter\""
   ]
  },
  {
   "cell_type": "code",
   "execution_count": 584,
   "id": "cf81b543-8319-4162-8d58-79232ce4ef94",
   "metadata": {},
   "outputs": [
    {
     "name": "stdout",
     "output_type": "stream",
     "text": [
      "I'm learning Python and Jupyter\n"
     ]
    }
   ],
   "source": [
    "# String Concatenation\n",
    "message_1 + message_2 # = \"I'm learning Pythonand Jupyter\"\n",
    "message = message_1 + ' ' + message_2\n",
    "print(message)"
   ]
  },
  {
   "cell_type": "code",
   "execution_count": 585,
   "id": "029df56d-2dfc-45f5-8527-39a1d3f7b428",
   "metadata": {},
   "outputs": [
    {
     "data": {
      "text/plain": [
       "\"I'm learning Python and Jupyter\""
      ]
     },
     "execution_count": 585,
     "metadata": {},
     "output_type": "execute_result"
    }
   ],
   "source": [
    "# f string\n",
    "  #  to embed expressions inside string literals\n",
    "f'{message}' # \"I'm learning Python and Jupyter\"\n",
    "f'{message_1} {message_2}'"
   ]
  },
  {
   "cell_type": "markdown",
   "id": "6792b62c-22ca-484d-b3b4-232aa1c40770",
   "metadata": {},
   "source": [
    "# 3 List (Arrays)"
   ]
  },
  {
   "cell_type": "code",
   "execution_count": 586,
   "id": "c3ff8ee2-8c1c-4a0c-b8b7-71333e14088d",
   "metadata": {},
   "outputs": [],
   "source": [
    "# Create list\n",
    "countries = ['United States', \"India\", \"China\", \"Brazil\"]"
   ]
  },
  {
   "cell_type": "code",
   "execution_count": 587,
   "id": "5eabe0de-0aef-45d0-8fd9-55392a326c25",
   "metadata": {},
   "outputs": [
    {
     "data": {
      "text/plain": [
       "['United States', 'India', 'China', 'Brazil']"
      ]
     },
     "execution_count": 587,
     "metadata": {},
     "output_type": "execute_result"
    }
   ],
   "source": [
    "countries"
   ]
  },
  {
   "cell_type": "code",
   "execution_count": 588,
   "id": "e8e40f0e-ae48-4d47-a78a-a335caeb77ae",
   "metadata": {},
   "outputs": [
    {
     "name": "stdout",
     "output_type": "stream",
     "text": [
      "United States India China Brazil\n"
     ]
    }
   ],
   "source": [
    "# Access indexes\n",
    "  # starts at index 0\n",
    "print(countries[0], countries[1], countries[2], countries[3])"
   ]
  },
  {
   "cell_type": "code",
   "execution_count": 589,
   "id": "2ef18f37-959d-44f4-ab9c-0364526da334",
   "metadata": {},
   "outputs": [
    {
     "name": "stdout",
     "output_type": "stream",
     "text": [
      "Brazil China India United States\n"
     ]
    }
   ],
   "source": [
    "# Negative Indexes\n",
    "  # starts at back beginning at -1\n",
    "print(countries[-1], countries[-2], countries[-3], countries[-4])"
   ]
  },
  {
   "cell_type": "code",
   "execution_count": 590,
   "id": "87e0bac4-2492-405a-8be2-b0e661674b49",
   "metadata": {},
   "outputs": [
    {
     "name": "stdout",
     "output_type": "stream",
     "text": [
      "['United States', 'India', 'China']\n",
      "['India', 'China', 'Brazil']\n",
      "['United States', 'India', 'China']\n"
     ]
    }
   ],
   "source": [
    "# Sliciing\n",
    "    # list_name[start:stop]\n",
    "        # includes index \"start\" but not index \"stop\"\n",
    "print(countries[0:3])\n",
    "    # can also have a starting point but no stop point\n",
    "        # so everything after \"start\"\n",
    "print(countries[1:])\n",
    "        # works for stop too\n",
    "print(countries[:3])\n"
   ]
  },
  {
   "cell_type": "markdown",
   "id": "47c589b2-708b-4e6c-b58b-6ceb5736dfea",
   "metadata": {},
   "source": [
    "## 3.1 Adding and Inserting elements"
   ]
  },
  {
   "cell_type": "code",
   "execution_count": 591,
   "id": "59503812-e0d5-4e36-8d03-5490cf9cf4ee",
   "metadata": {},
   "outputs": [
    {
     "data": {
      "text/plain": [
       "['United States', 'India', 'China', 'Brazil']"
      ]
     },
     "execution_count": 591,
     "metadata": {},
     "output_type": "execute_result"
    }
   ],
   "source": [
    "countries = ['United States', \"India\", \"China\", \"Brazil\"]\n",
    "countries"
   ]
  },
  {
   "cell_type": "code",
   "execution_count": 592,
   "id": "35962fbb-68d2-4baa-b624-b4178fbbca9d",
   "metadata": {},
   "outputs": [
    {
     "data": {
      "text/plain": [
       "['United States', 'India', 'China', 'Brazil', 'Canada']"
      ]
     },
     "execution_count": 592,
     "metadata": {},
     "output_type": "execute_result"
    }
   ],
   "source": [
    "# Add to end of list\n",
    "countries.append(\"Canada\")\n",
    "countries"
   ]
  },
  {
   "cell_type": "code",
   "execution_count": 593,
   "id": "26e5c5ed-9eaf-46f5-b610-bfaa9e8158bc",
   "metadata": {},
   "outputs": [
    {
     "data": {
      "text/plain": [
       "['Spain', 'United States', 'India', 'China', 'Brazil', 'Canada']"
      ]
     },
     "execution_count": 593,
     "metadata": {},
     "output_type": "execute_result"
    }
   ],
   "source": [
    "# Insert at index of list\n",
    "countries.insert(0, \"Spain\")\n",
    "countries"
   ]
  },
  {
   "cell_type": "code",
   "execution_count": 594,
   "id": "17e609ea-ba53-4f2d-acdc-75d82ad3ebcb",
   "metadata": {},
   "outputs": [
    {
     "data": {
      "text/plain": [
       "['Spain',\n",
       " 'United States',\n",
       " 'India',\n",
       " 'China',\n",
       " 'Brazil',\n",
       " 'Canada',\n",
       " 'UK',\n",
       " 'Germany',\n",
       " 'Russia']"
      ]
     },
     "execution_count": 594,
     "metadata": {},
     "output_type": "execute_result"
    }
   ],
   "source": [
    "# Joining two lists\n",
    "countries2 = [\"UK\", \"Germany\", \"Russia\"]\n",
    "countries + countries2"
   ]
  },
  {
   "cell_type": "code",
   "execution_count": 595,
   "id": "6b8dd99e-0e75-400b-96f1-beec06ed96f4",
   "metadata": {},
   "outputs": [
    {
     "data": {
      "text/plain": [
       "[['Spain', 'United States', 'India', 'China', 'Brazil', 'Canada'],\n",
       " ['UK', 'Germany', 'Russia']]"
      ]
     },
     "execution_count": 595,
     "metadata": {},
     "output_type": "execute_result"
    }
   ],
   "source": [
    "# Nested Lists\n",
    "nested_list = [countries, countries2]\n",
    "nested_list"
   ]
  },
  {
   "cell_type": "markdown",
   "id": "b83294d6-4fa9-4507-b00f-9927cbf04c7f",
   "metadata": {},
   "source": [
    "## 3.2 Removing elements"
   ]
  },
  {
   "cell_type": "code",
   "execution_count": 596,
   "id": "cc1dee62-a167-46bc-94b4-ff09cd7e0ffd",
   "metadata": {},
   "outputs": [],
   "source": [
    "countries = [\"Spain\", 'United States', \"India\", \"China\", \"Brazil\"]"
   ]
  },
  {
   "cell_type": "code",
   "execution_count": 597,
   "id": "dbe5ec88-206a-482d-ace3-6f213c5d0c56",
   "metadata": {},
   "outputs": [
    {
     "data": {
      "text/plain": [
       "['Spain', 'United States', 'China', 'Brazil']"
      ]
     },
     "execution_count": 597,
     "metadata": {},
     "output_type": "execute_result"
    }
   ],
   "source": [
    "# Remove by match/find\n",
    "countries.remove(\"India\")\n",
    "countries"
   ]
  },
  {
   "cell_type": "code",
   "execution_count": 598,
   "id": "23fa7ef9-8188-4116-b764-7dabe834dbf0",
   "metadata": {},
   "outputs": [
    {
     "data": {
      "text/plain": [
       "'Brazil'"
      ]
     },
     "execution_count": 598,
     "metadata": {},
     "output_type": "execute_result"
    }
   ],
   "source": [
    "# Remove by index AND return what was removed\n",
    "countries.pop(-1)"
   ]
  },
  {
   "cell_type": "code",
   "execution_count": 599,
   "id": "006c480e-c618-4fde-9fba-c5a345efce99",
   "metadata": {},
   "outputs": [
    {
     "data": {
      "text/plain": [
       "['United States', 'China']"
      ]
     },
     "execution_count": 599,
     "metadata": {},
     "output_type": "execute_result"
    }
   ],
   "source": [
    "# Remove by index WITHOUT returning what was removed\n",
    "del countries[0]\n",
    "countries"
   ]
  },
  {
   "cell_type": "code",
   "execution_count": 600,
   "id": "30019f7c-5c6c-4845-bd87-04e0c9b0f5ce",
   "metadata": {},
   "outputs": [
    {
     "name": "stdout",
     "output_type": "stream",
     "text": [
      "[]\n"
     ]
    }
   ],
   "source": [
    "# Deletes everything in list\n",
    "countries.clear() \n",
    "print(countries)"
   ]
  },
  {
   "cell_type": "markdown",
   "id": "9f2174e7-5c1d-40c0-b4cc-55469dee9929",
   "metadata": {},
   "source": [
    "## 3.3 Sorting a List"
   ]
  },
  {
   "cell_type": "code",
   "execution_count": 601,
   "id": "11435cb8-2ad0-490a-aa09-8a9465b67625",
   "metadata": {},
   "outputs": [],
   "source": [
    "numbers = [4, 3, 9, 10, 2, 1, 8, 5, 7, 6]"
   ]
  },
  {
   "cell_type": "code",
   "execution_count": 602,
   "id": "77185dab-85bc-4a25-ba49-8cc1188e3800",
   "metadata": {},
   "outputs": [
    {
     "data": {
      "text/plain": [
       "[1, 2, 3, 4, 5, 6, 7, 8, 9, 10]"
      ]
     },
     "execution_count": 602,
     "metadata": {},
     "output_type": "execute_result"
    }
   ],
   "source": [
    "# Sort by ascending order\n",
    "numbers.sort()\n",
    "numbers"
   ]
  },
  {
   "cell_type": "code",
   "execution_count": 603,
   "id": "3c5609c7-b1ff-4041-9619-5b0404188c57",
   "metadata": {},
   "outputs": [
    {
     "data": {
      "text/plain": [
       "[10, 9, 8, 7, 6, 5, 4, 3, 2, 1]"
      ]
     },
     "execution_count": 603,
     "metadata": {},
     "output_type": "execute_result"
    }
   ],
   "source": [
    "# Sort by descending order\n",
    "numbers.sort(reverse=True)\n",
    "numbers"
   ]
  },
  {
   "cell_type": "markdown",
   "id": "5edee4bf-8163-44c5-9605-46378fc08bbe",
   "metadata": {},
   "source": [
    "## 3.4 Update an Element"
   ]
  },
  {
   "cell_type": "code",
   "execution_count": 604,
   "id": "c3d49c0a-d121-46c0-9aca-f37c3720075c",
   "metadata": {},
   "outputs": [
    {
     "data": {
      "text/plain": [
       "[12, 9, 8, 7, 6, 5, 4, 3, 2, 1]"
      ]
     },
     "execution_count": 604,
     "metadata": {},
     "output_type": "execute_result"
    }
   ],
   "source": [
    "numbers[0] = 12\n",
    "numbers"
   ]
  },
  {
   "cell_type": "markdown",
   "id": "52aa5f8c-589f-4024-8233-e5ed80555895",
   "metadata": {},
   "source": [
    "## 3.5 Copying a list"
   ]
  },
  {
   "cell_type": "code",
   "execution_count": 605,
   "id": "4974f26b-9ed8-4ae3-b326-a1b6d2d4063c",
   "metadata": {},
   "outputs": [
    {
     "data": {
      "text/plain": [
       "['United States', 'India', 'China', 'Brazil']"
      ]
     },
     "execution_count": 605,
     "metadata": {},
     "output_type": "execute_result"
    }
   ],
   "source": [
    "countries = ['United States', \"India\", \"China\", \"Brazil\"]\n",
    "countries[:]"
   ]
  },
  {
   "cell_type": "code",
   "execution_count": 606,
   "id": "c49e157a-dc41-49ba-b9f8-96ac79d186e4",
   "metadata": {},
   "outputs": [
    {
     "name": "stdout",
     "output_type": "stream",
     "text": [
      "['United States', 'India', 'China', 'Brazil']\n",
      "['United States', 'India', 'China', 'Brazil']\n",
      "['United States', 'India', 'China', 'Brazil']\n"
     ]
    }
   ],
   "source": [
    "new_list = countries[:]\n",
    "print(new_list)\n",
    "#or \n",
    "new_list = countries.copy()\n",
    "print(new_list)\n",
    "\n",
    "'''\n",
    "BEWARE, below creates a REFERENCE to the original list\n",
    "so whatever you change to new_list2 ALSO changes countries\n",
    "'''\n",
    "new_list2 = countries\n",
    "print(new_list2)"
   ]
  },
  {
   "cell_type": "markdown",
   "id": "0f051fdc-3207-4e02-a17d-2a618729a7cc",
   "metadata": {},
   "source": [
    "# 4 Dictionary (C++ Map/Struct)"
   ]
  },
  {
   "cell_type": "code",
   "execution_count": 607,
   "id": "3e99124f-8abf-4931-b4d2-f88c0079da10",
   "metadata": {},
   "outputs": [
    {
     "data": {
      "text/plain": [
       "{'key1': 'value1', 'key2': 'value2', 3: 'value3', 'key4': 4}"
      ]
     },
     "execution_count": 607,
     "metadata": {},
     "output_type": "execute_result"
    }
   ],
   "source": [
    "my_dict = {'key1':\"value1\", \"key2\":\"value2\", 3:\"value3\", \"key4\": 4}\n",
    "my_dict"
   ]
  },
  {
   "cell_type": "code",
   "execution_count": 608,
   "id": "be5ee402-c38d-42e5-a566-070ce889e1d8",
   "metadata": {},
   "outputs": [],
   "source": [
    "my_info = {\"name\":\"Raymond\", \"age\":21}"
   ]
  },
  {
   "cell_type": "code",
   "execution_count": 609,
   "id": "b1cfb6b2-fc57-4a4a-8720-d70151928db7",
   "metadata": {},
   "outputs": [
    {
     "name": "stdout",
     "output_type": "stream",
     "text": [
      "dict_keys(['name', 'age'])\n",
      "dict_values(['Raymond', 21])\n"
     ]
    }
   ],
   "source": [
    "print(my_info.keys())   # return keys\n",
    "print(my_info.values()) # return vaues"
   ]
  },
  {
   "cell_type": "code",
   "execution_count": 610,
   "id": "e9db952e-2fe4-467b-89b2-334917ebe3bd",
   "metadata": {},
   "outputs": [
    {
     "name": "stdout",
     "output_type": "stream",
     "text": [
      "dict_items([('name', 'Raymond'), ('age', 21)])\n"
     ]
    }
   ],
   "source": [
    "print(my_info.items()) # return all items"
   ]
  },
  {
   "cell_type": "code",
   "execution_count": 611,
   "id": "4ed3be1c-b3e3-40ad-8f94-48e21a1b0a8e",
   "metadata": {},
   "outputs": [
    {
     "name": "stdout",
     "output_type": "stream",
     "text": [
      "{'name': 'Raymond', 'age': 21, 'height': 1.8}\n"
     ]
    }
   ],
   "source": [
    "# Adding key and value\n",
    "my_info[\"height\"] = 1.8\n",
    "print(my_info)"
   ]
  },
  {
   "cell_type": "code",
   "execution_count": 612,
   "id": "433ae8b3-c547-42fc-b1da-3950ec978c77",
   "metadata": {},
   "outputs": [
    {
     "name": "stdout",
     "output_type": "stream",
     "text": [
      "{'name': 'Raymond', 'age': 21, 'height': 1.95}\n",
      "{'name': 'Raymond', 'age': 21, 'height': 1.9}\n"
     ]
    }
   ],
   "source": [
    "# Update value\n",
    "my_info.update({\"height\":1.95})\n",
    "print(my_info)\n",
    "# or\n",
    "my_info[\"height\"] = 1.9\n",
    "print(my_info)"
   ]
  },
  {
   "cell_type": "markdown",
   "id": "d347e9d4-43f9-449f-a232-d10c90827141",
   "metadata": {},
   "source": [
    "## 4.1 Copy a dictionary"
   ]
  },
  {
   "cell_type": "code",
   "execution_count": 613,
   "id": "dc6a2043-f703-45d0-bc22-418d26e0846b",
   "metadata": {},
   "outputs": [
    {
     "name": "stdout",
     "output_type": "stream",
     "text": [
      "{'name': 'Raymond', 'age': 21, 'height': 1.9}\n",
      "{'name': 'Raymond', 'age': 21, 'height': 1.9}\n"
     ]
    }
   ],
   "source": [
    "new_dict = my_info.copy() # shallow copy\n",
    "print(new_dict)\n",
    "\n",
    "'''\n",
    "BEWARE, below creates a REFERENCE to the original dictionary\n",
    "so whatever you change to new_dict2 ALSO changes countries\n",
    "'''\n",
    "new_dict2 = my_info\n",
    "print(new_dict)"
   ]
  },
  {
   "cell_type": "code",
   "execution_count": 614,
   "id": "ec99098d-5743-4090-a675-922577317b25",
   "metadata": {},
   "outputs": [
    {
     "name": "stdout",
     "output_type": "stream",
     "text": [
      "{'name': 'Raymond', 'age': 21, 'height': 1.9}\n"
     ]
    }
   ],
   "source": [
    "new_dict.update({\"height\":2.0})\n",
    "\n",
    "'''\n",
    "Uncomment below to see the reference to the original dictionary\n",
    "'''\n",
    "# new_dict2.update({\"height\":2.0})\n",
    "print(my_info)\n"
   ]
  },
  {
   "cell_type": "markdown",
   "id": "14dfa39c-ce82-4bcd-8f04-76681062a77f",
   "metadata": {},
   "source": [
    "## 4.2 Remove element"
   ]
  },
  {
   "cell_type": "code",
   "execution_count": 615,
   "id": "77e7cf5e-9965-4379-bf25-efcd2cf7f6a7",
   "metadata": {},
   "outputs": [
    {
     "data": {
      "text/plain": [
       "21"
      ]
     },
     "execution_count": 615,
     "metadata": {},
     "output_type": "execute_result"
    }
   ],
   "source": [
    "my_info.pop(\"age\") # returns what value gets removed"
   ]
  },
  {
   "cell_type": "code",
   "execution_count": 616,
   "id": "a55fb0f2-ab52-42ec-899b-4c4f96d0f4ca",
   "metadata": {},
   "outputs": [
    {
     "name": "stdout",
     "output_type": "stream",
     "text": [
      "{'name': 'Raymond', 'height': 1.9}\n",
      "{'name': 'Raymond'}\n"
     ]
    }
   ],
   "source": [
    "print(my_info)\n",
    "del my_info[\"height\"] #does not return what gets removed\n",
    "print(my_info)"
   ]
  },
  {
   "cell_type": "code",
   "execution_count": 617,
   "id": "e9531e46-300d-43dd-9422-e6a10785e0a8",
   "metadata": {},
   "outputs": [
    {
     "name": "stdout",
     "output_type": "stream",
     "text": [
      "{}\n"
     ]
    }
   ],
   "source": [
    "my_info.clear() # deletes everything from dictionary\n",
    "print(my_info)"
   ]
  },
  {
   "cell_type": "markdown",
   "id": "7ab6f738-f52b-4cb0-8220-c5583bbf5a06",
   "metadata": {},
   "source": [
    "# 5 If Statement"
   ]
  },
  {
   "cell_type": "raw",
   "id": "ad650ae0-d6fc-4e32-8541-ba298405fef5",
   "metadata": {},
   "source": [
    "if <condition>:\n",
    "    <code>\n",
    "elif <condition>:\n",
    "    <code>\n",
    "...\n",
    "else:\n",
    "    <code>"
   ]
  },
  {
   "cell_type": "code",
   "execution_count": 618,
   "id": "3ac5b4f4-7864-4401-8103-640fd41024d6",
   "metadata": {},
   "outputs": [
    {
     "data": {
      "text/plain": [
       "'\\nIndentation IS REQUIRED when doing if statements\\n'"
      ]
     },
     "execution_count": 618,
     "metadata": {},
     "output_type": "execute_result"
    }
   ],
   "source": [
    "'''\n",
    "Indentation IS REQUIRED when doing if statements\n",
    "'''"
   ]
  },
  {
   "cell_type": "code",
   "execution_count": 619,
   "id": "c0083594-8a3b-4b4b-beed-b095880e46bc",
   "metadata": {},
   "outputs": [
    {
     "name": "stdout",
     "output_type": "stream",
     "text": [
      "Can buy gun!\n"
     ]
    }
   ],
   "source": [
    "age = 18\n",
    "\n",
    "if age >= 18:\n",
    "    print(\"Can buy gun!\")\n",
    "elif age >= 13:\n",
    "    print(\"You're a teenager!\")\n",
    "else:\n",
    "    print(\"Bros a kid\")"
   ]
  },
  {
   "cell_type": "markdown",
   "id": "d971a3b9-ec9f-42d8-a645-95ee4e98d1b2",
   "metadata": {},
   "source": [
    "# 6 For Loop"
   ]
  },
  {
   "cell_type": "raw",
   "id": "77250632-4c4f-4c21-916c-16881d915012",
   "metadata": {},
   "source": [
    "for <variable> in <iterable>:\n",
    "    <code>"
   ]
  },
  {
   "cell_type": "code",
   "execution_count": 620,
   "id": "e41263b6-7533-4b06-a94e-1e3db281f125",
   "metadata": {},
   "outputs": [
    {
     "data": {
      "text/plain": [
       "'\\nIterable being a list, etc\\n'"
      ]
     },
     "execution_count": 620,
     "metadata": {},
     "output_type": "execute_result"
    }
   ],
   "source": [
    "'''\n",
    "Iterable being a list, etc\n",
    "'''"
   ]
  },
  {
   "cell_type": "markdown",
   "id": "fc2a5f90-c8d6-47b3-ab7a-e65ec811a449",
   "metadata": {},
   "source": [
    "## 6.1 Looping through a list"
   ]
  },
  {
   "cell_type": "code",
   "execution_count": 621,
   "id": "7c791091-9383-4128-b414-24f6a05c8b7a",
   "metadata": {},
   "outputs": [],
   "source": [
    "countries = ['United States', 'India', 'China', 'Brazil']"
   ]
  },
  {
   "cell_type": "code",
   "execution_count": 622,
   "id": "cf637225-d2e0-4161-88dc-93c2d26b5d7d",
   "metadata": {},
   "outputs": [
    {
     "name": "stdout",
     "output_type": "stream",
     "text": [
      "United States\n",
      "India\n",
      "China\n",
      "Brazil\n"
     ]
    }
   ],
   "source": [
    "for country in countries:\n",
    "    print(country)"
   ]
  },
  {
   "cell_type": "code",
   "execution_count": 623,
   "id": "fdcea154-93f0-45ed-9d3a-9abe41644b3c",
   "metadata": {},
   "outputs": [
    {
     "name": "stdout",
     "output_type": "stream",
     "text": [
      "0\n",
      "United States\n",
      "1\n",
      "India\n",
      "2\n",
      "China\n",
      "3\n",
      "Brazil\n"
     ]
    }
   ],
   "source": [
    "'''\n",
    "Enumerate gets the number of iteration which begins at 0\n",
    "'''\n",
    "for i, country in enumerate(countries):\n",
    "    print(i)\n",
    "    print(country)"
   ]
  },
  {
   "cell_type": "code",
   "execution_count": 624,
   "id": "9d0708e9-dbfc-4979-906b-1e930dd45509",
   "metadata": {},
   "outputs": [
    {
     "name": "stdout",
     "output_type": "stream",
     "text": [
      "United States\n",
      "India\n",
      "China\n",
      "Brazil\n"
     ]
    }
   ],
   "source": [
    "'''\n",
    "Another method to print the countries but above is better if you want to loop through a list\n",
    "\n",
    "NOTE:\n",
    "- len(countries) returns the number of elements in the list — let’s say it's 5.\n",
    "- range(num_of_countries) will generate the sequence: 0, 1, 2, 3, 4\n",
    "- So countries[i] will access countries[0] through countries[4], which is valid, because index 4 is the last element when the list has 5 items.\n",
    "'''\n",
    "num_of_countries = len(countries) #gets length/number of elements in list\n",
    "for i in range(num_of_countries):\n",
    "    print(countries[i])"
   ]
  },
  {
   "cell_type": "markdown",
   "id": "4e43e08a-04cb-43a8-b44d-4ec579df810b",
   "metadata": {},
   "source": [
    "## 6.2 Looping through a dictionary"
   ]
  },
  {
   "cell_type": "code",
   "execution_count": 625,
   "id": "495b299e-9d0d-4c05-9797-c14e0cc938d3",
   "metadata": {},
   "outputs": [
    {
     "data": {
      "text/plain": [
       "{'name': 'Raymond', 'age': 21}"
      ]
     },
     "execution_count": 625,
     "metadata": {},
     "output_type": "execute_result"
    }
   ],
   "source": [
    "my_info = {\"name\":\"Raymond\", \"age\":21}\n",
    "my_info"
   ]
  },
  {
   "cell_type": "code",
   "execution_count": 626,
   "id": "2a5c7cb9-4b2b-4cb8-994b-8219846bf211",
   "metadata": {},
   "outputs": [
    {
     "name": "stdout",
     "output_type": "stream",
     "text": [
      "name  Raymond\n",
      "age  21\n"
     ]
    }
   ],
   "source": [
    "for key, value in my_info.items():\n",
    "    print(key + ' ', value)"
   ]
  },
  {
   "cell_type": "markdown",
   "id": "46722d7e-398f-4c99-b519-b7bddb01ee82",
   "metadata": {},
   "source": [
    "# 7 Functions"
   ]
  },
  {
   "cell_type": "raw",
   "id": "1d353d43-7acb-42ee-84d1-12a132e77cb6",
   "metadata": {},
   "source": [
    "def function (<params>):\n",
    "    <code>\n",
    "    return <data>"
   ]
  },
  {
   "cell_type": "code",
   "execution_count": 627,
   "id": "2281219f-5de4-4e27-9dab-a2ef7fcc75e0",
   "metadata": {},
   "outputs": [],
   "source": [
    "def sum_values(a, b):\n",
    "    x = a+b\n",
    "    return x"
   ]
  },
  {
   "cell_type": "code",
   "execution_count": 628,
   "id": "a9b45849-fc78-4558-984b-d67edf14ec20",
   "metadata": {},
   "outputs": [
    {
     "name": "stdout",
     "output_type": "stream",
     "text": [
      "3\n"
     ]
    }
   ],
   "source": [
    "print(sum_values(1, 2))"
   ]
  },
  {
   "cell_type": "markdown",
   "id": "23dbca6c-329c-442a-b239-ccc8b476a15e",
   "metadata": {},
   "source": [
    "## 8.1 Built-in Functions "
   ]
  },
  {
   "cell_type": "code",
   "execution_count": 629,
   "id": "22352610-33df-481e-a315-5fff7bb82418",
   "metadata": {},
   "outputs": [],
   "source": [
    "countries = ['United States', 'India', 'China', 'Brazil']"
   ]
  },
  {
   "cell_type": "code",
   "execution_count": 630,
   "id": "a9dff024-44a4-48e2-92a8-d378594e91fa",
   "metadata": {},
   "outputs": [
    {
     "data": {
      "text/plain": [
       "4"
      ]
     },
     "execution_count": 630,
     "metadata": {},
     "output_type": "execute_result"
    }
   ],
   "source": [
    "# Gets the length of ANY ITERABLE OBJECT\n",
    "'''\n",
    "len(object)\n",
    "'''\n",
    "len(countries)"
   ]
  },
  {
   "cell_type": "code",
   "execution_count": 631,
   "id": "39a08d16-9fe8-4769-9288-d0b84f93db76",
   "metadata": {},
   "outputs": [
    {
     "name": "stdout",
     "output_type": "stream",
     "text": [
      "99\n",
      "1\n"
     ]
    }
   ],
   "source": [
    "# Maximum and minimums \n",
    "'''\n",
    "max(object)\n",
    "min(object)\n",
    "'''\n",
    "rand_nums = [10, 63, 99, 1 , 56]\n",
    "print(max(rand_nums)) # returns the highest value in a iterable object\n",
    "print(min(rand_nums)) #returns the lowest value in a iterable object"
   ]
  },
  {
   "cell_type": "code",
   "execution_count": 632,
   "id": "dd9ccf22-e089-4058-a449-f9291a04de1d",
   "metadata": {},
   "outputs": [
    {
     "name": "stdout",
     "output_type": "stream",
     "text": [
      "<class 'list'>\n",
      "<class 'dict'>\n",
      "<class 'str'>\n",
      "<class 'float'>\n",
      "<class 'bool'>\n"
     ]
    }
   ],
   "source": [
    "# Check types of objects\n",
    "\n",
    "'''\n",
    "type(object)\n",
    "'''\n",
    "\n",
    "print(type(countries))\n",
    "print(type(my_info))\n",
    "print(type(\"Hellow World\"))\n",
    "print(type(2.4)) \n",
    "print(type(True)) "
   ]
  },
  {
   "cell_type": "code",
   "execution_count": 633,
   "id": "63364f57-5ab3-40da-bdd0-16c664bb52fa",
   "metadata": {},
   "outputs": [
    {
     "name": "stdout",
     "output_type": "stream",
     "text": [
      "1\n",
      "3\n",
      "5\n",
      "7\n",
      "9\n"
     ]
    }
   ],
   "source": [
    "# Returns of sequence of numbers that starts and ends with a number\n",
    "\n",
    "'''\n",
    "range(stop_num)\n",
    "range(start_num, stop_num)\n",
    "range(start_num, stop_num, increment_by)\n",
    "\n",
    "'''\n",
    "\n",
    "for i in range(1,10,2):\n",
    "    print(i)\n",
    "\n",
    "\n",
    "# starts at 1, adds 2, checks if >10\n"
   ]
  },
  {
   "cell_type": "markdown",
   "id": "893b7c59-6387-470c-bf6a-af21186c8c52",
   "metadata": {},
   "source": [
    "# 9 Module"
   ]
  },
  {
   "cell_type": "raw",
   "id": "cf3d391a-087b-4670-9245-f9d2c31103a3",
   "metadata": {},
   "source": [
    "import"
   ]
  },
  {
   "cell_type": "markdown",
   "id": "c8120934-8ba3-4d13-ac91-62582babc268",
   "metadata": {},
   "source": [
    "## 9.1 OS Module"
   ]
  },
  {
   "cell_type": "code",
   "execution_count": 634,
   "id": "99b4aa1e-edf7-4df1-922c-5d27d7db6f6e",
   "metadata": {},
   "outputs": [],
   "source": [
    "import os"
   ]
  },
  {
   "cell_type": "code",
   "execution_count": 635,
   "id": "d6d49bc3-8512-4ff3-b01d-08823c1a2cdb",
   "metadata": {},
   "outputs": [
    {
     "data": {
      "text/plain": [
       "'C:\\\\Users\\\\raymo\\\\learn_python_data_science\\\\Course'"
      ]
     },
     "execution_count": 635,
     "metadata": {},
     "output_type": "execute_result"
    }
   ],
   "source": [
    "# Gets current directory\n",
    "os.getcwd()"
   ]
  },
  {
   "cell_type": "code",
   "execution_count": 636,
   "id": "3c270e8f-0e60-4d60-99a8-72848a748887",
   "metadata": {},
   "outputs": [
    {
     "data": {
      "text/plain": [
       "['.ipynb_checkpoints',\n",
       " '1 GettingFamiliar.ipynb',\n",
       " '2 Useful Shortcuts.ipynb',\n",
       " '3 Python Basics.ipynb']"
      ]
     },
     "execution_count": 636,
     "metadata": {},
     "output_type": "execute_result"
    }
   ],
   "source": [
    "# List all (including hidden) elements/files in current directory\n",
    "os.listdir()"
   ]
  },
  {
   "cell_type": "code",
   "execution_count": 637,
   "id": "e69dd39a-d221-4290-80b0-8dc38b692b3d",
   "metadata": {},
   "outputs": [],
   "source": [
    "# Create new folder in current directory\n",
    "# os.mkdir(\"Test Folder\")"
   ]
  }
 ],
 "metadata": {
  "kernelspec": {
   "display_name": "Python 3 (ipykernel)",
   "language": "python",
   "name": "python3"
  },
  "language_info": {
   "codemirror_mode": {
    "name": "ipython",
    "version": 3
   },
   "file_extension": ".py",
   "mimetype": "text/x-python",
   "name": "python",
   "nbconvert_exporter": "python",
   "pygments_lexer": "ipython3",
   "version": "3.12.7"
  }
 },
 "nbformat": 4,
 "nbformat_minor": 5
}
