{
 "cells": [
  {
   "cell_type": "code",
   "execution_count": 25,
   "id": "1908c079-7f33-4e6b-950f-d0431d6c7600",
   "metadata": {},
   "outputs": [],
   "source": [
    "import pandas as pd"
   ]
  },
  {
   "cell_type": "code",
   "execution_count": 26,
   "id": "427a8eb5-4168-4497-b134-2a27b6d60ec3",
   "metadata": {},
   "outputs": [
    {
     "data": {
      "text/html": [
       "<div>\n",
       "<style scoped>\n",
       "    .dataframe tbody tr th:only-of-type {\n",
       "        vertical-align: middle;\n",
       "    }\n",
       "\n",
       "    .dataframe tbody tr th {\n",
       "        vertical-align: top;\n",
       "    }\n",
       "\n",
       "    .dataframe thead th {\n",
       "        text-align: right;\n",
       "    }\n",
       "</style>\n",
       "<table border=\"1\" class=\"dataframe\">\n",
       "  <thead>\n",
       "    <tr style=\"text-align: right;\">\n",
       "      <th></th>\n",
       "      <th>Manufacturer</th>\n",
       "      <th>Sales_in_thousands</th>\n",
       "      <th>Vehicle_type</th>\n",
       "      <th>Price_in_thousands</th>\n",
       "      <th>Engine_size</th>\n",
       "      <th>Horsepower</th>\n",
       "      <th>Fuel_capacity</th>\n",
       "    </tr>\n",
       "  </thead>\n",
       "  <tbody>\n",
       "    <tr>\n",
       "      <th>0</th>\n",
       "      <td>Acura</td>\n",
       "      <td>16.919</td>\n",
       "      <td>Passenger</td>\n",
       "      <td>21.50</td>\n",
       "      <td>1.8</td>\n",
       "      <td>140.0</td>\n",
       "      <td>13.2</td>\n",
       "    </tr>\n",
       "    <tr>\n",
       "      <th>1</th>\n",
       "      <td>Acura</td>\n",
       "      <td>39.384</td>\n",
       "      <td>Passenger</td>\n",
       "      <td>28.40</td>\n",
       "      <td>3.2</td>\n",
       "      <td>225.0</td>\n",
       "      <td>17.2</td>\n",
       "    </tr>\n",
       "    <tr>\n",
       "      <th>2</th>\n",
       "      <td>Acura</td>\n",
       "      <td>14.114</td>\n",
       "      <td>Passenger</td>\n",
       "      <td>NaN</td>\n",
       "      <td>3.2</td>\n",
       "      <td>225.0</td>\n",
       "      <td>17.2</td>\n",
       "    </tr>\n",
       "    <tr>\n",
       "      <th>3</th>\n",
       "      <td>Acura</td>\n",
       "      <td>8.588</td>\n",
       "      <td>Passenger</td>\n",
       "      <td>42.00</td>\n",
       "      <td>3.5</td>\n",
       "      <td>210.0</td>\n",
       "      <td>18.0</td>\n",
       "    </tr>\n",
       "    <tr>\n",
       "      <th>4</th>\n",
       "      <td>Audi</td>\n",
       "      <td>20.397</td>\n",
       "      <td>Passenger</td>\n",
       "      <td>23.99</td>\n",
       "      <td>1.8</td>\n",
       "      <td>150.0</td>\n",
       "      <td>16.4</td>\n",
       "    </tr>\n",
       "    <tr>\n",
       "      <th>...</th>\n",
       "      <td>...</td>\n",
       "      <td>...</td>\n",
       "      <td>...</td>\n",
       "      <td>...</td>\n",
       "      <td>...</td>\n",
       "      <td>...</td>\n",
       "      <td>...</td>\n",
       "    </tr>\n",
       "    <tr>\n",
       "      <th>152</th>\n",
       "      <td>Volvo</td>\n",
       "      <td>3.545</td>\n",
       "      <td>Passenger</td>\n",
       "      <td>24.40</td>\n",
       "      <td>1.9</td>\n",
       "      <td>160.0</td>\n",
       "      <td>15.8</td>\n",
       "    </tr>\n",
       "    <tr>\n",
       "      <th>153</th>\n",
       "      <td>Volvo</td>\n",
       "      <td>15.245</td>\n",
       "      <td>Passenger</td>\n",
       "      <td>27.50</td>\n",
       "      <td>2.4</td>\n",
       "      <td>168.0</td>\n",
       "      <td>17.9</td>\n",
       "    </tr>\n",
       "    <tr>\n",
       "      <th>154</th>\n",
       "      <td>Volvo</td>\n",
       "      <td>17.531</td>\n",
       "      <td>Passenger</td>\n",
       "      <td>28.80</td>\n",
       "      <td>2.4</td>\n",
       "      <td>168.0</td>\n",
       "      <td>17.9</td>\n",
       "    </tr>\n",
       "    <tr>\n",
       "      <th>155</th>\n",
       "      <td>Volvo</td>\n",
       "      <td>3.493</td>\n",
       "      <td>Passenger</td>\n",
       "      <td>45.50</td>\n",
       "      <td>2.3</td>\n",
       "      <td>236.0</td>\n",
       "      <td>18.5</td>\n",
       "    </tr>\n",
       "    <tr>\n",
       "      <th>156</th>\n",
       "      <td>Volvo</td>\n",
       "      <td>18.969</td>\n",
       "      <td>Passenger</td>\n",
       "      <td>36.00</td>\n",
       "      <td>2.9</td>\n",
       "      <td>201.0</td>\n",
       "      <td>21.1</td>\n",
       "    </tr>\n",
       "  </tbody>\n",
       "</table>\n",
       "<p>157 rows × 7 columns</p>\n",
       "</div>"
      ],
      "text/plain": [
       "    Manufacturer  Sales_in_thousands Vehicle_type  Price_in_thousands  \\\n",
       "0          Acura              16.919    Passenger               21.50   \n",
       "1          Acura              39.384    Passenger               28.40   \n",
       "2          Acura              14.114    Passenger                 NaN   \n",
       "3          Acura               8.588    Passenger               42.00   \n",
       "4           Audi              20.397    Passenger               23.99   \n",
       "..           ...                 ...          ...                 ...   \n",
       "152        Volvo               3.545    Passenger               24.40   \n",
       "153        Volvo              15.245    Passenger               27.50   \n",
       "154        Volvo              17.531    Passenger               28.80   \n",
       "155        Volvo               3.493    Passenger               45.50   \n",
       "156        Volvo              18.969    Passenger               36.00   \n",
       "\n",
       "     Engine_size  Horsepower  Fuel_capacity  \n",
       "0            1.8       140.0           13.2  \n",
       "1            3.2       225.0           17.2  \n",
       "2            3.2       225.0           17.2  \n",
       "3            3.5       210.0           18.0  \n",
       "4            1.8       150.0           16.4  \n",
       "..           ...         ...            ...  \n",
       "152          1.9       160.0           15.8  \n",
       "153          2.4       168.0           17.9  \n",
       "154          2.4       168.0           17.9  \n",
       "155          2.3       236.0           18.5  \n",
       "156          2.9       201.0           21.1  \n",
       "\n",
       "[157 rows x 7 columns]"
      ]
     },
     "execution_count": 26,
     "metadata": {},
     "output_type": "execute_result"
    }
   ],
   "source": [
    "df = pd.read_csv('csv files/Car_sales.csv')\n",
    "\n",
    "df=df[['Manufacturer', 'Sales_in_thousands', 'Vehicle_type', 'Price_in_thousands','Engine_size', 'Horsepower', 'Fuel_capacity']]\n",
    "df"
   ]
  },
  {
   "cell_type": "code",
   "execution_count": 27,
   "id": "acd41dbe-1999-45f8-905a-f50614996490",
   "metadata": {},
   "outputs": [
    {
     "data": {
      "text/plain": [
       "Manufacturer           30\n",
       "Sales_in_thousands    157\n",
       "Vehicle_type            2\n",
       "Price_in_thousands    152\n",
       "Engine_size            31\n",
       "Horsepower             66\n",
       "Fuel_capacity          55\n",
       "dtype: int64"
      ]
     },
     "execution_count": 27,
     "metadata": {},
     "output_type": "execute_result"
    }
   ],
   "source": [
    "df.nunique()"
   ]
  },
  {
   "cell_type": "markdown",
   "id": "6c05b532-6267-43c5-827d-6c5a021078ef",
   "metadata": {},
   "source": [
    "# 1 agg() "
   ]
  },
  {
   "cell_type": "code",
   "execution_count": 28,
   "id": "4fba1bbe-b188-48be-8a7f-4a21a19a255b",
   "metadata": {},
   "outputs": [
    {
     "data": {
      "text/plain": [
       "Manufacturer          AcuraAcuraAcuraAcuraAudiAudiAudiBMWBMWBMWBuick...\n",
       "Sales_in_thousands                                             8320.698\n",
       "Vehicle_type          PassengerPassengerPassengerPassengerPassengerP...\n",
       "Price_in_thousands                                             4245.567\n",
       "Engine_size                                                       477.5\n",
       "Horsepower                                                      29008.0\n",
       "Fuel_capacity                                                    2800.5\n",
       "dtype: object"
      ]
     },
     "execution_count": 28,
     "metadata": {},
     "output_type": "execute_result"
    }
   ],
   "source": [
    "# calculate sum of rows\n",
    "df.agg(\"sum\")"
   ]
  },
  {
   "cell_type": "code",
   "execution_count": 29,
   "id": "bfd3cb69-0255-465f-93cf-843b07655523",
   "metadata": {},
   "outputs": [
    {
     "data": {
      "text/plain": [
       "Sales_in_thousands     52.998076\n",
       "Price_in_thousands     27.390755\n",
       "Engine_size             3.060897\n",
       "Horsepower            185.948718\n",
       "Fuel_capacity          17.951923\n",
       "dtype: float64"
      ]
     },
     "execution_count": 29,
     "metadata": {},
     "output_type": "execute_result"
    }
   ],
   "source": [
    "# calculate mean of numeric columns\n",
    "numeric_cols = df.select_dtypes(include=['number']).columns\n",
    "df_numcols = df[numeric_cols]\n",
    "df_numcols.agg(\"mean\")"
   ]
  },
  {
   "cell_type": "code",
   "execution_count": 32,
   "id": "9ec8e33d-83db-4149-a56c-a6b2b43519be",
   "metadata": {},
   "outputs": [
    {
     "data": {
      "text/html": [
       "<div>\n",
       "<style scoped>\n",
       "    .dataframe tbody tr th:only-of-type {\n",
       "        vertical-align: middle;\n",
       "    }\n",
       "\n",
       "    .dataframe tbody tr th {\n",
       "        vertical-align: top;\n",
       "    }\n",
       "\n",
       "    .dataframe thead th {\n",
       "        text-align: right;\n",
       "    }\n",
       "</style>\n",
       "<table border=\"1\" class=\"dataframe\">\n",
       "  <thead>\n",
       "    <tr style=\"text-align: right;\">\n",
       "      <th></th>\n",
       "      <th>Sales_in_thousands</th>\n",
       "      <th>Price_in_thousands</th>\n",
       "      <th>Engine_size</th>\n",
       "      <th>Horsepower</th>\n",
       "      <th>Fuel_capacity</th>\n",
       "    </tr>\n",
       "  </thead>\n",
       "  <tbody>\n",
       "    <tr>\n",
       "      <th>mean</th>\n",
       "      <td>52.998076</td>\n",
       "      <td>27.390755</td>\n",
       "      <td>3.060897</td>\n",
       "      <td>185.948718</td>\n",
       "      <td>17.951923</td>\n",
       "    </tr>\n",
       "    <tr>\n",
       "      <th>count</th>\n",
       "      <td>157.000000</td>\n",
       "      <td>155.000000</td>\n",
       "      <td>156.000000</td>\n",
       "      <td>156.000000</td>\n",
       "      <td>156.000000</td>\n",
       "    </tr>\n",
       "  </tbody>\n",
       "</table>\n",
       "</div>"
      ],
      "text/plain": [
       "       Sales_in_thousands  Price_in_thousands  Engine_size  Horsepower  \\\n",
       "mean            52.998076           27.390755     3.060897  185.948718   \n",
       "count          157.000000          155.000000   156.000000  156.000000   \n",
       "\n",
       "       Fuel_capacity  \n",
       "mean       17.951923  \n",
       "count     156.000000  "
      ]
     },
     "execution_count": 32,
     "metadata": {},
     "output_type": "execute_result"
    }
   ],
   "source": [
    "#calculate mean and count values\n",
    "df_numcols.apply(['mean', 'count'])"
   ]
  },
  {
   "cell_type": "code",
   "execution_count": 34,
   "id": "bd232c3b-0d6f-4de3-8663-b7ea9610bef7",
   "metadata": {},
   "outputs": [
    {
     "data": {
      "text/html": [
       "<div>\n",
       "<style scoped>\n",
       "    .dataframe tbody tr th:only-of-type {\n",
       "        vertical-align: middle;\n",
       "    }\n",
       "\n",
       "    .dataframe tbody tr th {\n",
       "        vertical-align: top;\n",
       "    }\n",
       "\n",
       "    .dataframe thead th {\n",
       "        text-align: right;\n",
       "    }\n",
       "</style>\n",
       "<table border=\"1\" class=\"dataframe\">\n",
       "  <thead>\n",
       "    <tr style=\"text-align: right;\">\n",
       "      <th></th>\n",
       "      <th>Sales_in_thousands</th>\n",
       "      <th>Price_in_thousands</th>\n",
       "    </tr>\n",
       "  </thead>\n",
       "  <tbody>\n",
       "    <tr>\n",
       "      <th>mean</th>\n",
       "      <td>52.998076</td>\n",
       "      <td>NaN</td>\n",
       "    </tr>\n",
       "    <tr>\n",
       "      <th>sum</th>\n",
       "      <td>8320.698000</td>\n",
       "      <td>4245.567</td>\n",
       "    </tr>\n",
       "    <tr>\n",
       "      <th>max</th>\n",
       "      <td>NaN</td>\n",
       "      <td>85.500</td>\n",
       "    </tr>\n",
       "  </tbody>\n",
       "</table>\n",
       "</div>"
      ],
      "text/plain": [
       "      Sales_in_thousands  Price_in_thousands\n",
       "mean           52.998076                 NaN\n",
       "sum          8320.698000            4245.567\n",
       "max                  NaN              85.500"
      ]
     },
     "execution_count": 34,
     "metadata": {},
     "output_type": "execute_result"
    }
   ],
   "source": [
    "# calculate mean and sum of Sales_in_thousands and the max of Price_in_thousands\n",
    "df_numcols.agg({'Sales_in_thousands':['mean','sum'], \n",
    "                'Price_in_thousands':['max', 'sum']})"
   ]
  },
  {
   "cell_type": "code",
   "execution_count": null,
   "id": "cb480a6f-61cf-4b5f-8764-63bec851eea2",
   "metadata": {},
   "outputs": [],
   "source": [
    "# aggregate over columns\n"
   ]
  }
 ],
 "metadata": {
  "kernelspec": {
   "display_name": "Python 3 (ipykernel)",
   "language": "python",
   "name": "python3"
  },
  "language_info": {
   "codemirror_mode": {
    "name": "ipython",
    "version": 3
   },
   "file_extension": ".py",
   "mimetype": "text/x-python",
   "name": "python",
   "nbconvert_exporter": "python",
   "pygments_lexer": "ipython3",
   "version": "3.12.7"
  }
 },
 "nbformat": 4,
 "nbformat_minor": 5
}
