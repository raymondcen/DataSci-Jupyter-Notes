{
 "cells": [
  {
   "cell_type": "code",
   "execution_count": 6,
   "id": "563665af-ba6d-4d7b-a74a-bd2a9ea9cb8d",
   "metadata": {},
   "outputs": [
    {
     "data": {
      "text/plain": [
       "123456"
      ]
     },
     "execution_count": 6,
     "metadata": {},
     "output_type": "execute_result"
    }
   ],
   "source": [
    "123456"
   ]
  },
  {
   "cell_type": "markdown",
   "id": "c32b9a3f-1e47-45aa-8a0d-b1a748580db1",
   "metadata": {
    "collapsed": true,
    "jupyter": {
     "outputs_hidden": true
    }
   },
   "source": [
    "# Markdown Title"
   ]
  },
  {
   "cell_type": "markdown",
   "id": "8f70dd0c-60b0-4ecf-8408-76c0f378f2ec",
   "metadata": {},
   "source": [
    "## Markdown Subtitle"
   ]
  },
  {
   "cell_type": "markdown",
   "id": "aa001c0d-c7ec-488b-ad42-9a23c14ec5bc",
   "metadata": {},
   "source": [
    "Markdown Text"
   ]
  },
  {
   "cell_type": "code",
   "execution_count": 13,
   "id": "c18ff5bf-f43d-4d2c-bc54-43cad1e78a3f",
   "metadata": {},
   "outputs": [
    {
     "data": {
      "text/plain": [
       "9999"
      ]
     },
     "execution_count": 13,
     "metadata": {},
     "output_type": "execute_result"
    }
   ],
   "source": [
    "9999"
   ]
  },
  {
   "cell_type": "code",
   "execution_count": null,
   "id": "5219a20b-ec7f-4ad7-8227-618ee3370b8e",
   "metadata": {},
   "outputs": [],
   "source": []
  }
 ],
 "metadata": {
  "kernelspec": {
   "display_name": "Python 3 (ipykernel)",
   "language": "python",
   "name": "python3"
  },
  "language_info": {
   "codemirror_mode": {
    "name": "ipython",
    "version": 3
   },
   "file_extension": ".py",
   "mimetype": "text/x-python",
   "name": "python",
   "nbconvert_exporter": "python",
   "pygments_lexer": "ipython3",
   "version": "3.12.7"
  }
 },
 "nbformat": 4,
 "nbformat_minor": 5
}
