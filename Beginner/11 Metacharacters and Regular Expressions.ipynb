{
 "cells": [
  {
   "cell_type": "markdown",
   "id": "d462d3d5-db43-4707-ae0b-e30ed974fd0f",
   "metadata": {},
   "source": [
    "## Regex File: [Regex Characters](regex_metacharacters.txt)"
   ]
  },
  {
   "cell_type": "code",
   "execution_count": 11,
   "id": "81622733-7a6e-4949-9362-beec09cfea07",
   "metadata": {},
   "outputs": [],
   "source": [
    "import re"
   ]
  },
  {
   "cell_type": "markdown",
   "id": "14bddf39-6742-49cf-9123-a412ec1d80cb",
   "metadata": {},
   "source": [
    "# 1 re.search()\n",
    "```\n",
    "re.search(r'character/function', variable_with_text, flags= re.?)\n",
    "\n",
    "\n",
    "re.IGNORECASE or re.I\tCase-insensitive matching\n",
    "re.MULTILINE or re.M\t^ and $ match the start/end of each line, not just the string\n",
    "re.DOTALL or re.S\t. matches any character, including newline\n",
    "re.VERBOSE or re.X\tAllows whitespace and comments in regex for readability\n",
    "re.ASCII or re.A\tMatches only ASCII characters for \\w, \\d, \\s, etc.\n",
    "re.LOCALE or re.L\tLocale-aware matching (rarely used)\n",
    "```"
   ]
  },
  {
   "cell_type": "code",
   "execution_count": 12,
   "id": "2f9e57ff-bd21-44ac-8914-f11672705556",
   "metadata": {},
   "outputs": [],
   "source": [
    "text = \"\"\"Hello World.\n",
    "I love Python!!!!!\n",
    "My first lucky number is 987-654-321\n",
    "My second lucky number is 876-543-210\n",
    "My third lucky number is 765-432-100\n",
    "My fourth lucky number is 123-456-123-123-456\n",
    "\"\"\""
   ]
  },
  {
   "cell_type": "code",
   "execution_count": 13,
   "id": "71c9e3ad-8809-43b9-8909-f53deb4cb2ec",
   "metadata": {},
   "outputs": [
    {
     "data": {
      "text/plain": [
       "<re.Match object; span=(57, 58), match='9'>"
      ]
     },
     "execution_count": 13,
     "metadata": {},
     "output_type": "execute_result"
    }
   ],
   "source": [
    "# return the first digit match\n",
    "re.search(r'\\d', text)\n",
    "\n",
    "# looks at variable \"text\" and finds the first digit '9'"
   ]
  },
  {
   "cell_type": "code",
   "execution_count": 20,
   "id": "dc9c3845-92a7-4e0c-9137-62d9070a4cdf",
   "metadata": {},
   "outputs": [
    {
     "data": {
      "text/plain": [
       "<re.Match object; span=(0, 5), match='Hello'>"
      ]
     },
     "execution_count": 20,
     "metadata": {},
     "output_type": "execute_result"
    }
   ],
   "source": [
    "# flags\n",
    "re.search(r'^hello', text, flags=re.I)"
   ]
  },
  {
   "cell_type": "markdown",
   "id": "bb315820-5db1-423b-b479-54669382c3ee",
   "metadata": {},
   "source": [
    "# 2 re.findall()"
   ]
  },
  {
   "cell_type": "code",
   "execution_count": 21,
   "id": "9e43d2f5-457d-4177-97b3-9d967ea71ea8",
   "metadata": {
    "scrolled": true
   },
   "outputs": [
    {
     "data": {
      "text/plain": [
       "['9',\n",
       " '8',\n",
       " '7',\n",
       " '6',\n",
       " '5',\n",
       " '4',\n",
       " '3',\n",
       " '2',\n",
       " '1',\n",
       " '8',\n",
       " '7',\n",
       " '6',\n",
       " '5',\n",
       " '4',\n",
       " '3',\n",
       " '2',\n",
       " '1',\n",
       " '0',\n",
       " '7',\n",
       " '6',\n",
       " '5',\n",
       " '4',\n",
       " '3',\n",
       " '2',\n",
       " '1',\n",
       " '0',\n",
       " '0',\n",
       " '1',\n",
       " '2',\n",
       " '3',\n",
       " '4',\n",
       " '5',\n",
       " '6',\n",
       " '1',\n",
       " '2',\n",
       " '3',\n",
       " '1',\n",
       " '2',\n",
       " '3',\n",
       " '4',\n",
       " '5',\n",
       " '6']"
      ]
     },
     "execution_count": 21,
     "metadata": {},
     "output_type": "execute_result"
    }
   ],
   "source": [
    "# return all the matchs\n",
    "re.findall(r'\\d', text)"
   ]
  },
  {
   "cell_type": "markdown",
   "id": "a3dd7842-9145-4d65-8425-91f2b67c3974",
   "metadata": {},
   "source": [
    "# 3 Exercises"
   ]
  },
  {
   "cell_type": "code",
   "execution_count": 30,
   "id": "73cb85e0-1990-4b96-ba15-b69280fb8166",
   "metadata": {},
   "outputs": [
    {
     "data": {
      "text/plain": [
       "['.',\n",
       " '!',\n",
       " '!',\n",
       " '!',\n",
       " '!',\n",
       " '!',\n",
       " '-',\n",
       " '-',\n",
       " '-',\n",
       " '-',\n",
       " '-',\n",
       " '-',\n",
       " '-',\n",
       " '-',\n",
       " '-',\n",
       " '-']"
      ]
     },
     "execution_count": 30,
     "metadata": {},
     "output_type": "execute_result"
    }
   ],
   "source": [
    "# Match only punctuation\n",
    "text = \"\"\"Hello World.\n",
    "I love Python!!!!!\n",
    "My first lucky number is 987-654-321\n",
    "My second lucky number is 876-543-210\n",
    "My third lucky number is 765-432-100\n",
    "My fourth lucky number is 123-456-123-123-456\n",
    "\"\"\"\n",
    "\n",
    "re.findall(r'[^\\w\\s]', text)"
   ]
  },
  {
   "cell_type": "code",
   "execution_count": 33,
   "id": "2bbedddb-853d-4b61-b768-28a564884cf7",
   "metadata": {},
   "outputs": [
    {
     "data": {
      "text/plain": [
       "['13-04-2021']"
      ]
     },
     "execution_count": 33,
     "metadata": {},
     "output_type": "execute_result"
    }
   ],
   "source": [
    "# Match right date format (MM-DD-YYYY)\n",
    "text = '''\n",
    "13-04-2021\n",
    "2021-13-04\n",
    "2021-04-13\n",
    "'''\n",
    "\n",
    "re.findall(r'\\d{2}-\\d{2}-\\d{4}', text)"
   ]
  },
  {
   "cell_type": "code",
   "execution_count": 40,
   "id": "731b2cae-408d-4d88-89ba-5553c94b6e3d",
   "metadata": {},
   "outputs": [
    {
     "data": {
      "text/plain": [
       "['username10']"
      ]
     },
     "execution_count": 40,
     "metadata": {},
     "output_type": "execute_result"
    }
   ],
   "source": [
    "# Match right username format (4-14 characters and only letters or digits)\n",
    "text = '''\n",
    "username10\n",
    "abc\n",
    "10\n",
    "'''\n",
    "\n",
    "re.findall(r'[a-zA-Z0-9]{4,14}', text)"
   ]
  }
 ],
 "metadata": {
  "kernelspec": {
   "display_name": "Python 3 (ipykernel)",
   "language": "python",
   "name": "python3"
  },
  "language_info": {
   "codemirror_mode": {
    "name": "ipython",
    "version": 3
   },
   "file_extension": ".py",
   "mimetype": "text/x-python",
   "name": "python",
   "nbconvert_exporter": "python",
   "pygments_lexer": "ipython3",
   "version": "3.12.7"
  }
 },
 "nbformat": 4,
 "nbformat_minor": 5
}
